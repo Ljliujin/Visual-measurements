{
 "cells": [
  {
   "cell_type": "code",
   "execution_count": 1,
   "metadata": {},
   "outputs": [],
   "source": [
    "import os\n",
    "import pandas as pd\n",
    "import numpy as np"
   ]
  },
  {
   "cell_type": "code",
   "execution_count": 2,
   "metadata": {},
   "outputs": [],
   "source": [
    "data_local_dir = \"./data\"\n",
    "data_22223_dir = \"./data_22223\""
   ]
  },
  {
   "cell_type": "code",
   "execution_count": 14,
   "metadata": {},
   "outputs": [],
   "source": [
    "def compare(to_compare):\n",
    "    data_name = \"{}.csv\".format(to_compare)\n",
    "    data_local_path = os.path.join(data_local_dir, data_name)\n",
    "    data_22223_path = os.path.join(data_22223_dir, data_name)\n",
    "    data_local = np.array(pd.read_csv(data_local_path))\n",
    "    data_22223 = np.array(pd.read_csv(data_22223_path))\n",
    "\n",
    "    diff = data_local - data_22223\n",
    "    diff_ = np.nonzero(diff)\n",
    "\n",
    "    return diff_\n",
    "\n",
    "result = compare(\"worldpoints\")"
   ]
  },
  {
   "cell_type": "code",
   "execution_count": 15,
   "metadata": {},
   "outputs": [
    {
     "data": {
      "text/plain": [
       "(array([], dtype=int64), array([], dtype=int64))"
      ]
     },
     "execution_count": 15,
     "metadata": {},
     "output_type": "execute_result"
    }
   ],
   "source": [
    "result"
   ]
  },
  {
   "cell_type": "code",
   "execution_count": null,
   "metadata": {},
   "outputs": [],
   "source": []
  }
 ],
 "metadata": {
  "interpreter": {
   "hash": "a1e56e4599283538ac561e0f746e4f0861bd477863d38d223daffdd8150da05e"
  },
  "kernelspec": {
   "display_name": "Python 3.9.7 ('tf2')",
   "language": "python",
   "name": "python3"
  },
  "language_info": {
   "codemirror_mode": {
    "name": "ipython",
    "version": 3
   },
   "file_extension": ".py",
   "mimetype": "text/x-python",
   "name": "python",
   "nbconvert_exporter": "python",
   "pygments_lexer": "ipython3",
   "version": "3.9.7"
  },
  "orig_nbformat": 4
 },
 "nbformat": 4,
 "nbformat_minor": 2
}
