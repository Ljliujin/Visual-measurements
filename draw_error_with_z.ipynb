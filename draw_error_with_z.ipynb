{
 "cells": [
  {
   "cell_type": "code",
   "execution_count": 1,
   "metadata": {},
   "outputs": [],
   "source": [
    "from numpy.random import seed\n",
    "seed(42)\n",
    "import tensorflow as tf\n",
    "tf.compat.v1.set_random_seed(42)\n",
    "import pandas as pd\n",
    "import numpy as np\n",
    "from sklearn.preprocessing import StandardScaler\n",
    "from keras.models import load_model\n",
    "from sklearn.model_selection import train_test_split\n",
    "from sklearn.metrics import mean_absolute_error\n",
    "import matplotlib.pyplot as plt\n"
   ]
  },
  {
   "cell_type": "markdown",
   "metadata": {},
   "source": []
  },
  {
   "cell_type": "code",
   "execution_count": 2,
   "metadata": {},
   "outputs": [],
   "source": [
    "img_points = pd.read_csv('./data/points_cloud.csv')\n",
    "world_points = pd.read_csv(\"./data/worldpoints.csv\")\n",
    "center_points = pd.read_csv(\"./data/centerpoints.csv\",header=None)\n",
    "\n",
    "# interpolate_1 = pd.read_csv(\"./data/centerpoints_interpolate.csv\")\n",
    "# interpolate_2 = pd.read_csv(\"./data/interpolate_progressed.csv\")\n",
    "\n",
    "# frames = [img_points, world_points]\n",
    "# data = pd.concat(frames, axis=1)"
   ]
  },
  {
   "cell_type": "code",
   "execution_count": 9,
   "metadata": {},
   "outputs": [],
   "source": [
    "def load_scaler_():\n",
    "\n",
    "    '''\n",
    "    interpolate_1 = pd.read_csv(\"./data/centerpoints_interpolate.csv\")\n",
    "    interpolate_2 = pd.read_csv(\"./data/interpolate_progressed.csv\")\n",
    "    interpolate = pd.concat([interpolate_1, interpolate_2],axis=0)\n",
    "    '''\n",
    "    frames = [img_points, world_points]\n",
    "\n",
    "    csv = pd.concat(frames, axis=1)\n",
    "    center_points_ = pd.DataFrame(np.array(center_points),columns=csv.columns)\n",
    "    #csv_center = pd.DataFrame(np.array(center_points),columns=[\"0x\",\"0y\",\"1x\",\"1y\",\"2x\",\"2y\",\"3x\",\"3y\",\"4x\",\"4y\",\"5x\",\"5y\",\"6x\",\"6y\",\"7x\",\"7y\",\"x\",\"y\",\"z\"])\n",
    "    #print(center_points)\n",
    "    frames = [csv, center_points_]\n",
    "    all_csv = pd.concat(frames, axis=0)\n",
    "\n",
    "    # all_csv = all_csv.iloc[:,lambda df:[2,3,4,5,10,11,12,13,16,17,18]]\n",
    "    # interpolate = interpolate.iloc[:,lambda df:[2,3,4,5,10,11,12,13,16,17,18]]\n",
    "\n",
    "    all_csv = all_csv.sample(frac=1)\n",
    "    train_val, test = train_test_split(all_csv, test_size=0.1)\n",
    "    val_pct = 1 / 9\n",
    "    train, val = train_test_split(train_val, test_size=val_pct)\n",
    "    '''\n",
    "    # 混入插值点到val\n",
    "\n",
    "    percentage = len(val) / len(interpolate)\n",
    "    mixin = interpolate.sample(frac=percentage)\n",
    "    val = pd.concat([val, mixin], axis=0)\n",
    "    '''\n",
    "\n",
    "    # 归一化\n",
    "    scaler = StandardScaler()\n",
    "    train = scaler.fit_transform(train)\n",
    "\n",
    "    return scaler\n",
    "scaler = load_scaler_()"
   ]
  },
  {
   "cell_type": "code",
   "execution_count": 4,
   "metadata": {},
   "outputs": [],
   "source": [
    "def load_data_origin():\n",
    "    frames = [img_points, world_points]\n",
    "    data = pd.concat(frames,axis=1)\n",
    "    return data\n",
    "\n",
    "data_origin = load_data_origin()"
   ]
  },
  {
   "cell_type": "code",
   "execution_count": 19,
   "metadata": {},
   "outputs": [],
   "source": [
    "def load_data_linar():\n",
    "    interpolate_2 = pd.read_csv(\"./data/interpolate_progressed.csv\")\n",
    "    all_csv = interpolate_2\n",
    "    return all_csv\n",
    "\n",
    "data_linar = load_data_linar()"
   ]
  },
  {
   "cell_type": "code",
   "execution_count": 4,
   "metadata": {},
   "outputs": [],
   "source": [
    "# centerpoint data\n",
    "def load_data_centerpoint():\n",
    "    centerpoints = pd.DataFrame(np.array(center_points), columns=[\"0x\",\"0y\",\"1x\",\"1y\",\"2x\",\"2y\",\"3x\",\"3y\",\"4x\",\"4y\",\"5x\",\"5y\",\"6x\",\"6y\",\"7x\",\"7y\",\"x\",\"y\",\"z\"])\n",
    "    csv_center = pd.DataFrame(np.array(centerpoints),columns=[\"0x\",\"0y\",\"1x\",\"1y\",\"2x\",\"2y\",\"3x\",\"3y\",\"4x\",\"4y\",\"5x\",\"5y\",\"6x\",\"6y\",\"7x\",\"7y\",\"x\",\"y\",\"z\"])\n",
    "    all_csv = csv_center\n",
    "\n",
    "    return all_csv\n",
    "\n",
    "data_centerpoint = load_data_centerpoint()"
   ]
  },
  {
   "cell_type": "code",
   "execution_count": 5,
   "metadata": {},
   "outputs": [],
   "source": [
    "def load_scaler():\n",
    "    \n",
    "    # interpolate_1 = pd.read_csv(\"./data/centerpoints_interpolate.csv\")\n",
    "    # interpolate_2 = pd.read_csv(\"./data/interpolate_progressed.csv\")\n",
    "    # interpolate = pd.concat([interpolate_1, interpolate_2],axis=0)\n",
    "    csv = load_data_origin()\n",
    "\n",
    "\n",
    "\n",
    "    column_list = [\"0x\",\"0y\",\"1x\",\"1y\",\"2x\",\"2y\",\"3x\",\"3y\",\"4x\",\"4y\",\"5x\",\"5y\",\"6x\",\"6y\",\"7x\",\"7y\",\"x\",\"y\",\"z\"]\n",
    "    centerpoints = pd.DataFrame(np.array(center_points), columns=column_list)\n",
    "    # csv_center = pd.DataFrame(np.array(center_points),columns=column_list).iloc[:,lambda df:[2,3,4,5,10,11,12,13]]\n",
    "    frames = [csv, center_points]\n",
    "    all_csv = pd.concat(frames, axis=0)\n",
    "\n",
    "    # all_csv = all_csv.iloc[:,lambda df:[2,3,4,5,10,11,12,13,16,17,18]]\n",
    "\n",
    "    # all_csv = csv\n",
    "    # all_csv = data_origin\n",
    "\n",
    "    all_csv = all_csv.sample(frac=1)\n",
    "    train_val, test = train_test_split(all_csv, test_size=0.1)\n",
    "    val_pct = 1 / 9\n",
    "    train, val = train_test_split(train_val, test_size=val_pct)\n",
    "\n",
    "    \n",
    "    # 混入插值点到val\n",
    "\n",
    "    # percentage = len(val) / len(interpolate)\n",
    "    # mixin = interpolate.sample(frac=percentage)\n",
    "    # val = pd.concat([val, mixin], axis=0)\n",
    "    \n",
    "\n",
    "    # 归一化\n",
    "    scaler = StandardScaler()\n",
    "    train = scaler.fit_transform(train)\n",
    "    # val = scaler.transform(val)\n",
    "    # test = scaler.transform(test)\n",
    "\n",
    "    return scaler\n",
    "\n",
    "scaler = load_scaler()\n"
   ]
  },
  {
   "cell_type": "code",
   "execution_count": 5,
   "metadata": {},
   "outputs": [
    {
     "name": "stdout",
     "output_type": "stream",
     "text": [
      "WARNING:tensorflow:Error in loading the saved optimizer state. As a result, your model is starting with a freshly initialized optimizer.\n"
     ]
    }
   ],
   "source": [
    "model = load_model(\"./model/best_model/model.h5\")\n",
    "# model = tf.saved_model.load(\"./model/retrain_2/retrain_model.ckpt/saved_model.pb\")"
   ]
  },
  {
   "cell_type": "code",
   "execution_count": 10,
   "metadata": {},
   "outputs": [
    {
     "name": "stdout",
     "output_type": "stream",
     "text": [
      "predict:\n",
      "-----------------------------------------\n",
      "[[  -0.1015779     0.22186324    0.22882378]\n",
      " [  -0.18897022    4.046029      0.1043315 ]\n",
      " [  -0.18353021    7.79562092    0.09755242]\n",
      " ...\n",
      " [1136.59667506  750.58612017  299.60912988]\n",
      " [1136.60998155  754.45237268  299.57910527]\n",
      " [1136.60841608  758.29218038  299.57590404]]\n",
      "model test MAE:0.08518752343350101\n",
      "model x MAE:0.08832764670313066\n",
      "model y MAE:0.0785692034099699\n",
      "model z MAE:0.08866572018739241\n"
     ]
    }
   ],
   "source": [
    "def predict_(data, scaler, model):\n",
    "    cam_num = 8\n",
    "    np.set_printoptions(suppress=True)\n",
    "    '''\n",
    "    rows = data.shape[0]\n",
    "    for col in ['x', 'y', 'z']:\n",
    "        data[col] = [0 for i in range(rows)]\n",
    "    '''\n",
    "    # print(data)\n",
    "    actual = data.iloc[:, 2*cam_num:]\n",
    "    test = scaler.transform(data)\n",
    "    predict = scaler.inverse_transform(np.hstack((test[:, :2*cam_num], model.predict(test[:, :2*cam_num]))))[:, 2*cam_num:]\n",
    "    print(\"predict:\\n-----------------------------------------\")\n",
    "    print(predict)\n",
    "    \n",
    "    print(\"model test MAE:\" + str(mean_absolute_error(actual, predict)))\n",
    "    print(\"model x MAE:\" + str(mean_absolute_error(actual.iloc[:, 0], predict[:, 0])))\n",
    "    print(\"model y MAE:\" + str(mean_absolute_error(actual.iloc[:, 1], predict[:, 1])))\n",
    "    print(\"model z MAE:\" + str(mean_absolute_error(actual.iloc[:, 2], predict[:, 2])))\n",
    "    return predict\n",
    "\n",
    "predict = predict_(data_origin,scaler,model)\n",
    "# predict_1 = predict_(data_origin, scaler, model)\n"
   ]
  },
  {
   "cell_type": "code",
   "execution_count": 12,
   "metadata": {},
   "outputs": [],
   "source": [
    "err = np.abs(predict - np.array(data_origin.iloc[:,16:]))\n",
    "# err_1 = np.abs(predict_1 - np.array(data_origin.iloc[:,16:]))"
   ]
  },
  {
   "cell_type": "code",
   "execution_count": 21,
   "metadata": {},
   "outputs": [
    {
     "name": "stdout",
     "output_type": "stream",
     "text": [
      "predict:\n",
      "-----------------------------------------\n",
      "[[   0.61045817    2.88619264    0.95603814]\n",
      " [   0.5228734     6.6407584     0.88102483]\n",
      " [   0.48146401   10.36764263    0.82767553]\n",
      " ...\n",
      " [1136.19605425  748.98213209  299.61296251]\n",
      " [1136.26176236  752.94343535  299.63400934]\n",
      " [1136.35981667  756.93244623  299.64766048]]\n",
      "model test MAE:0.14949326473909164\n",
      "model x MAE:0.16286125250904912\n",
      "model y MAE:0.12428276080859622\n",
      "model z MAE:0.16133578089965148\n"
     ]
    }
   ],
   "source": [
    "predict_2 = predict_(data_linar, scaler, model)\n",
    "err_2 = np.abs(predict_2 - np.array(data_linar.iloc[:,16:]))"
   ]
  },
  {
   "cell_type": "code",
   "execution_count": 21,
   "metadata": {},
   "outputs": [],
   "source": [
    "num = 200*299 # 原数据每层点数\n",
    "# num = 199*298 # 中心点数据每层点数\n",
    "# num = 199*299 # 线性插值每层点数\n",
    "\n",
    "total_error = []\n",
    "MSE_error = []\n",
    "x_error = []\n",
    "y_error = []\n",
    "z_error = []\n",
    "for z in range(76):\n",
    "    layer_x_error = np.mean(err[:,0][z*num:(z+1)*num])\n",
    "    x_error.append(layer_x_error)\n",
    "\n",
    "    layer_y_error = np.mean(err[:,1][z*num:(z+1)*num])\n",
    "    y_error.append(layer_y_error)\n",
    "\n",
    "    layer_z_error = np.mean(err[:,2][z*num:(z+1)*num])\n",
    "    z_error.append(layer_z_error)\n",
    "\n",
    "\n",
    "for i in range(76):\n",
    "    error = ((x_error[i])**2 + (y_error[i])**2 + (z_error[i])**2) ** 0.5\n",
    "    # error = ((x_error[i])**2 + (y_error[i])**2 + (z_error[i])**2) ** 0.5\n",
    "    # mse_error = ((x_error[i])**2 + (z_error[i])**2) ** 0.5\n",
    "    total_error.append(error)\n"
   ]
  },
  {
   "cell_type": "code",
   "execution_count": 13,
   "metadata": {},
   "outputs": [],
   "source": [
    "def error_xyz(err, num):\n",
    "    x_error, y_error, z_error = [], [], []\n",
    "    for z in range(76):\n",
    "        layer_x_error = np.mean(err[:,0][z*num:(z+1)*num])\n",
    "        x_error.append(layer_x_error)\n",
    "\n",
    "        layer_y_error = np.mean(err[:,1][z*num:(z+1)*num])\n",
    "        y_error.append(layer_y_error)\n",
    "\n",
    "        layer_z_error = np.mean(err[:,2][z*num:(z+1)*num])\n",
    "        z_error.append(layer_z_error)\n",
    "    \n",
    "    return x_error, y_error, z_error"
   ]
  },
  {
   "cell_type": "code",
   "execution_count": 14,
   "metadata": {},
   "outputs": [],
   "source": [
    "num = 200*299\n",
    "x_error, y_error, z_error = error_xyz(err, num)\n",
    "# x_error_1, y_error_1, z_error_1 = error_xyz(err_1, num)"
   ]
  },
  {
   "cell_type": "code",
   "execution_count": 22,
   "metadata": {},
   "outputs": [],
   "source": [
    "# x_error_2, y_error_2, z_error_2 = error_xyz(err_2, num)"
   ]
  },
  {
   "cell_type": "code",
   "execution_count": 22,
   "metadata": {},
   "outputs": [
    {
     "data": {
      "image/png": "[encoded data removed]",
      "text/plain": [
       "<Figure size 432x288 with 1 Axes>"
      ]
     },
     "metadata": {
      "needs_background": "light"
     },
     "output_type": "display_data"
    }
   ],
   "source": [
    "direction = \"MSE\"\n",
    "to_draw = \"{},{}_origin,{}_linear\".format(direction,direction,direction)\n",
    "z = np.arange(76)\n",
    "# L1 = plt.plot(z,x_error,\"r\",label=\"X_error\")\n",
    "# L6 = plt.plot(z,x_error_1,\"b\",label=\"X_origin_error\")\n",
    "# L7 = plt.plot(z,x_error_2,\"g\",label=\"X_linear_error\")\n",
    "# L2 = plt.plot(z,y_error,\"b\",label=\"Y_error\")\n",
    "# L6 = plt.plot(z,y_error_1,\"r\",label=\"Y_origin_error\")\n",
    "# L6 = plt.plot(z,y_error_2,\"g\",label=\"Y_linear_error\")\n",
    "# L3 = plt.plot(z,z_error,\"g\",label=\"Z_error\")\n",
    "# L6 = plt.plot(z,z_error_1,\"r\",label=\"Z_origin_error\")\n",
    "# L6 = plt.plot(z,z_error_2,\"b\",label=\"Z_linear_error\")\n",
    "L4 = plt.plot(z,total_error,\"black\",label=\"MSE_error\")\n",
    "# L5 = plt.plot(z,total_error,\"brown\",label=\"XZ_MSE_error\")\n",
    "\n",
    "plt.rcParams[\"font.sans-serif\"]=[\"SimHei\"]\n",
    "plt.rcParams[\"font.family\"]=\"sans-serif\"\n",
    "plt.xlabel(\"Z层数变化（4mm每层）\")\n",
    "plt.ylabel(\"平面上所有点的平均误差(mm)\")\n",
    "# plt.title(\"{}方向误差随Z层数变化趋势\".format(direction))\n",
    "plt.title(\"所有方向的{}误差\".format(direction))\n",
    "plt.legend()\n",
    "plt.savefig(\"./model/best_model/{}_error.jpg\".format(direction))\n",
    "# plt.show()\n"
   ]
  },
  {
   "cell_type": "code",
   "execution_count": null,
   "metadata": {},
   "outputs": [],
   "source": []
  }
 ],
 "metadata": {
  "interpreter": {
   "hash": "a8f61be024eba58adef938c9aa1e29e02cb3dece83a5348b1a2dafd16a070453"
  },
  "kernelspec": {
   "display_name": "Python 3.9.7 ('base')",
   "language": "python",
   "name": "python3"
  },
  "language_info": {
   "codemirror_mode": {
    "name": "ipython",
    "version": 3
   },
   "file_extension": ".py",
   "mimetype": "text/x-python",
   "name": "python",
   "nbconvert_exporter": "python",
   "pygments_lexer": "ipython3",
   "version": "3.9.7"
  },
  "orig_nbformat": 4
 },
 "nbformat": 4,
 "nbformat_minor": 2
}
