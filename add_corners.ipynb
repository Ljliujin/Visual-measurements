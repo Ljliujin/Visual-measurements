{
 "cells": [
  {
   "cell_type": "code",
   "execution_count": 2,
   "metadata": {},
   "outputs": [],
   "source": [
    "import cv2 as cv\n",
    "import os\n",
    "import numpy as np"
   ]
  },
  {
   "cell_type": "code",
   "execution_count": 6,
   "metadata": {},
   "outputs": [],
   "source": [
    "dir_path = \"fail_pics_progressing\"\n",
    "pic_names = os.listdir(dir_path)\n",
    "result_path = \"add_test\""
   ]
  },
  {
   "cell_type": "code",
   "execution_count": 9,
   "metadata": {},
   "outputs": [],
   "source": [
    "points_cloud = np.loadtxt(os.path.join(\"add_test\",\"points_cloud_1.txt\"),delimiter=\",\")"
   ]
  },
  {
   "cell_type": "code",
   "execution_count": 11,
   "metadata": {},
   "outputs": [
    {
     "name": "stdout",
     "output_type": "stream",
     "text": [
      "2_21.jpg points added\n",
      "3_35.jpg points added\n",
      "3_49.jpg points added\n"
     ]
    }
   ],
   "source": [
    "for pic_name in pic_names:\n",
    "\n",
    "    pic_path = os.path.join(dir_path, pic_name)\n",
    "    img = cv.imread(pic_path)\n",
    "    ret, corners = cv.findChessboardCornersSB(img, (200, 299), cv.CALIB_CB_NORMALIZE_IMAGE + cv.CALIB_CB_EXHAUSTIVE)\n",
    "\n",
    "    corners_list = np.ones((corners.shape[0], corners.shape[2]), type(corners))\n",
    "    for i in range(corners.shape[0]):\n",
    "        corners_list[i] = corners[i][0]\n",
    "    \n",
    "    cam_id = int(pic_name.split(\".\")[0].split(\"_\")[0])\n",
    "    layer = int(pic_name.split(\".\")[0].split(\"_\")[1])\n",
    "    row, column = 200, 299\n",
    "    row_begin = layer*row*column\n",
    "    row_end = (1+layer)*row*column\n",
    "    column_begin = cam_id*2\n",
    "    column_end =(1+cam_id)*2\n",
    "    \n",
    "    points_cloud[row_begin:row_end,column_begin:column_end] = corners_list\n",
    "    print(\"{} points added\".format(pic_name))\n",
    "\n",
    "np.savetxt(os.path.join(result_path, \"points_cloud_2.txt\"), points_cloud, fmt=\"%f\", delimiter=\",\")"
   ]
  },
  {
   "cell_type": "code",
   "execution_count": null,
   "metadata": {},
   "outputs": [],
   "source": []
  }
 ],
 "metadata": {
  "interpreter": {
   "hash": "07efdcd4b820c98a756949507a4d29d7862823915ec7477944641bea022f4f62"
  },
  "kernelspec": {
   "display_name": "Python 3.9.7 64-bit ('base': conda)",
   "language": "python",
   "name": "python3"
  },
  "language_info": {
   "codemirror_mode": {
    "name": "ipython",
    "version": 3
   },
   "file_extension": ".py",
   "mimetype": "text/x-python",
   "name": "python",
   "nbconvert_exporter": "python",
   "pygments_lexer": "ipython3",
   "version": "3.9.7"
  },
  "orig_nbformat": 4
 },
 "nbformat": 4,
 "nbformat_minor": 2
}
