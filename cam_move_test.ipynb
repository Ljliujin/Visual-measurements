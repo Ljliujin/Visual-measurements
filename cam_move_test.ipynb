{
 "cells": [
  {
   "cell_type": "code",
   "execution_count": 4,
   "metadata": {},
   "outputs": [],
   "source": [
    "import cv2\n",
    "import numpy as np\n",
    "import pandas as pd\n",
    "import utils\n",
    "import os"
   ]
  },
  {
   "cell_type": "code",
   "execution_count": 21,
   "metadata": {},
   "outputs": [],
   "source": [
    "for layer in range(4,33,4):\n",
    "    for index in range(8):\n",
    "        img = cv2.imread(f'./{layer}mm/{index}.png')\n",
    "        ret, corners = cv2.findChessboardCornersSB(img, (8,11))\n",
    "        corner_points = [corners[i][0] for i in range(len(corners))]\n",
    "        np.savetxt(f'./{layer}mm/data/{index}_corners.csv',corner_points, delimiter=',')\n",
    "cv2.drawChessboardCorners(img, (8,11), corners, ret)\n",
    "cv2.imwrite('./test_corners.png', img)\n",
    "pt1_canshu = [4, 0, 4]  # layer, row, column\n",
    "pt2_canshu = [4, 10, 4]\n",
    "pt1 = []\n",
    "for index in range(8):\n",
    "    [layer, row, column] = pt1_canshu\n",
    "    corner = np.loadtxt(f'../cam_move_test/{layer}mm/data/{index}_corners.csv', delimiter=',')[row*8+column]\n",
    "    pt1.append(corner[0])\n",
    "    pt1.append(corner[1])\n",
    "# np.vstack(pt1)\n",
    "pt1\n",
    "pt2_canshu = [4, 10, 4]\n",
    "pt2 = []\n",
    "for index in range(8):\n",
    "    [layer, row, column] = pt2_canshu\n",
    "    corner = np.loadtxt(f'../cam_move_test/{layer}mm/data/{index}_corners.csv', delimiter=',')[row*8+column]\n",
    "    pt2.append(corner[0])\n",
    "    pt2.append(corner[1])\n",
    "pt2"
   ]
  },
  {
   "cell_type": "code",
   "execution_count": null,
   "metadata": {},
   "outputs": [],
   "source": [
    "if not os.path.exists('./chessboard/data'):\n",
    "    os.mkdir('./chessboard/data')\n",
    "for index in range(8):\n",
    "    img = cv2.imread(f'./chessboard/{index}.png')\n",
    "    ret, corners = cv2.findChessboardCornersSB(img, (8,11))\n",
    "    corner_pts = [corners[i][0] for i in range(len(corners))]\n",
    "    \n",
    "    np.savetxt"
   ]
  },
  {
   "cell_type": "code",
   "execution_count": 6,
   "metadata": {},
   "outputs": [
    {
     "ename": "TypeError",
     "evalue": "object of type 'NoneType' has no len()",
     "output_type": "error",
     "traceback": [
      "\u001b[1;31m---------------------------------------------------------------------------\u001b[0m",
      "\u001b[1;31mTypeError\u001b[0m                                 Traceback (most recent call last)",
      "\u001b[1;32mf:\\WanGuan\\WanGuanCode\\calibration\\cam_move_test.ipynb Cell 4'\u001b[0m in \u001b[0;36m<cell line: 12>\u001b[1;34m()\u001b[0m\n\u001b[0;32m     <a href='vscode-notebook-cell:/f%3A/WanGuan/WanGuanCode/calibration/cam_move_test.ipynb#ch0000003?line=11'>12</a>\u001b[0m \u001b[39mfor\u001b[39;00m i \u001b[39min\u001b[39;00m \u001b[39mrange\u001b[39m(\u001b[39m8\u001b[39m):\n\u001b[0;32m     <a href='vscode-notebook-cell:/f%3A/WanGuan/WanGuanCode/calibration/cam_move_test.ipynb#ch0000003?line=12'>13</a>\u001b[0m     pic_name \u001b[39m=\u001b[39m \u001b[39mf\u001b[39m\u001b[39m'\u001b[39m\u001b[39m{\u001b[39;00mi\u001b[39m}\u001b[39;00m\u001b[39m.png\u001b[39m\u001b[39m'\u001b[39m\n\u001b[1;32m---> <a href='vscode-notebook-cell:/f%3A/WanGuan/WanGuanCode/calibration/cam_move_test.ipynb#ch0000003?line=13'>14</a>\u001b[0m     cam_id, corner_pts \u001b[39m=\u001b[39m findCorners(pic_name)\n\u001b[0;32m     <a href='vscode-notebook-cell:/f%3A/WanGuan/WanGuanCode/calibration/cam_move_test.ipynb#ch0000003?line=14'>15</a>\u001b[0m     txt \u001b[39m=\u001b[39m np\u001b[39m.\u001b[39mhstack((txt, corner_pts)) \u001b[39mif\u001b[39;00m txt \u001b[39m==\u001b[39m [] \u001b[39melse\u001b[39;00m corner_pts\n",
      "\u001b[1;32mf:\\WanGuan\\WanGuanCode\\calibration\\cam_move_test.ipynb Cell 4'\u001b[0m in \u001b[0;36mfindCorners\u001b[1;34m(pic_name)\u001b[0m\n\u001b[0;32m      <a href='vscode-notebook-cell:/f%3A/WanGuan/WanGuanCode/calibration/cam_move_test.ipynb#ch0000003?line=4'>5</a>\u001b[0m img \u001b[39m=\u001b[39m cv2\u001b[39m.\u001b[39mimread(\u001b[39mf\u001b[39m\u001b[39m'\u001b[39m\u001b[39m{\u001b[39;00mdir_\u001b[39m}\u001b[39;00m\u001b[39m/\u001b[39m\u001b[39m{\u001b[39;00mpic_name\u001b[39m}\u001b[39;00m\u001b[39m'\u001b[39m)\n\u001b[0;32m      <a href='vscode-notebook-cell:/f%3A/WanGuan/WanGuanCode/calibration/cam_move_test.ipynb#ch0000003?line=5'>6</a>\u001b[0m ret, corners \u001b[39m=\u001b[39m cv2\u001b[39m.\u001b[39mfindChessboardCornersSB(img, (\u001b[39m8\u001b[39m,\u001b[39m11\u001b[39m))\n\u001b[1;32m----> <a href='vscode-notebook-cell:/f%3A/WanGuan/WanGuanCode/calibration/cam_move_test.ipynb#ch0000003?line=6'>7</a>\u001b[0m corner_coors \u001b[39m=\u001b[39m [corners[i][\u001b[39m0\u001b[39m] \u001b[39mfor\u001b[39;00m i \u001b[39min\u001b[39;00m \u001b[39mrange\u001b[39m(\u001b[39mlen\u001b[39;49m(corners))]\n\u001b[0;32m      <a href='vscode-notebook-cell:/f%3A/WanGuan/WanGuanCode/calibration/cam_move_test.ipynb#ch0000003?line=7'>8</a>\u001b[0m corner_pts \u001b[39m=\u001b[39m np\u001b[39m.\u001b[39mvstack(corner_coors)\n\u001b[0;32m      <a href='vscode-notebook-cell:/f%3A/WanGuan/WanGuanCode/calibration/cam_move_test.ipynb#ch0000003?line=8'>9</a>\u001b[0m \u001b[39mreturn\u001b[39;00m cam_id, corner_pts\n",
      "\u001b[1;31mTypeError\u001b[0m: object of type 'NoneType' has no len()"
     ]
    }
   ],
   "source": [
    "\"\"\" 8*11棋盘格，相机高度测试 \"\"\"\n",
    "dir_ = './chessboard/pics'\n",
    "def findCorners(pic_name:str):\n",
    "    cam_id = int(pic_name.split('.')[0])\n",
    "    img = cv2.imread(f'{dir_}/{pic_name}')\n",
    "    ret, corners = cv2.findChessboardCornersSB(img, (8,11))\n",
    "    corner_coors = [corners[i][0] for i in range(len(corners))]\n",
    "    corner_pts = np.vstack(corner_coors)\n",
    "    return cam_id, corner_pts\n",
    "\n",
    "txt = []\n",
    "for i in range(8):\n",
    "    pic_name = f'{i}.png'\n",
    "    cam_id, corner_pts = findCorners(pic_name)\n",
    "    txt = np.hstack((txt, corner_pts)) if txt == [] else corner_pts"
   ]
  },
  {
   "cell_type": "code",
   "execution_count": 7,
   "metadata": {},
   "outputs": [],
   "source": [
    "img = cv2.imread('./chessboard_test/pics/0.png')\n",
    "ret, corners = cv2.findChessboardCornersSB(img, (8,11))"
   ]
  },
  {
   "cell_type": "code",
   "execution_count": 8,
   "metadata": {},
   "outputs": [
    {
     "data": {
      "text/plain": [
       "False"
      ]
     },
     "execution_count": 8,
     "metadata": {},
     "output_type": "execute_result"
    }
   ],
   "source": [
    "ret"
   ]
  },
  {
   "cell_type": "code",
   "execution_count": null,
   "metadata": {},
   "outputs": [],
   "source": []
  }
 ],
 "metadata": {
  "kernelspec": {
   "display_name": "Python 3.10.7 64-bit",
   "language": "python",
   "name": "python3"
  },
  "language_info": {
   "codemirror_mode": {
    "name": "ipython",
    "version": 3
   },
   "file_extension": ".py",
   "mimetype": "text/x-python",
   "name": "python",
   "nbconvert_exporter": "python",
   "pygments_lexer": "ipython3",
   "version": "3.10.7"
  },
  "orig_nbformat": 4,
  "vscode": {
   "interpreter": {
    "hash": "beedbe2faf2f7048d727558d0bc3221e7eba2a0b921cac4d4771b2feb8f74b30"
   }
  }
 },
 "nbformat": 4,
 "nbformat_minor": 2
}
